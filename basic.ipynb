{
 "metadata": {
  "language_info": {
   "codemirror_mode": {
    "name": "ipython",
    "version": 3
   },
   "file_extension": ".py",
   "mimetype": "text/x-python",
   "name": "python",
   "nbconvert_exporter": "python",
   "pygments_lexer": "ipython3",
   "version": "3.8.3-final"
  },
  "orig_nbformat": 2,
  "kernelspec": {
   "name": "python3",
   "display_name": "Python 3.8.3 32-bit ('StockGuide': pipenv)",
   "metadata": {
    "interpreter": {
     "hash": "3e726ee1dce9008c421514b7b04e16bb7518003bffa0bb5601857a5187b22a39"
    }
   }
  }
 },
 "nbformat": 4,
 "nbformat_minor": 2,
 "cells": [
  {
   "cell_type": "code",
   "execution_count": 64,
   "metadata": {},
   "outputs": [
    {
     "output_type": "stream",
     "name": "stdout",
     "text": [
      "종목 코드 수 :  3326\n이름에 따른 코드 검색\nA001380\tSG충방\n코드에 따른 이름 검색\nA005930\t삼성전자\n"
     ]
    }
   ],
   "source": [
    "import win32com.client\n",
    "instCpStockCode = win32com.client.Dispatch(\"CpUtil.CpStockCode\")\n",
    "print(\"종목 코드 수 : \", instCpStockCode.GetCount())\n",
    "print(\"이름에 따른 코드 검색\")\n",
    "name = \"SG충방\"\n",
    "print(f\"{instCpStockCode.NameToCode(name)}\\t{name}\")\n",
    "print(\"코드에 따른 이름 검색\")\n",
    "code = \"A005930\"\n",
    "print(f\"{code}\\t{instCpStockCode.CodeToName(code)}\")"
   ]
  },
  {
   "cell_type": "code",
   "execution_count": 32,
   "metadata": {},
   "outputs": [],
   "source": [
    "import win32com.client\n",
    "instCpCodeMgr = win32com.client.Dispatch(\"CpUtil.CpCodeMgr\")\n",
    "codeList = instCpCodeMgr.GetStockListByMarket(1) # 1:코스피, 2:코스닥, 3:프리보드, 4:KRX\n",
    "# print(codeList)"
   ]
  },
  {
   "cell_type": "code",
   "execution_count": 65,
   "metadata": {},
   "outputs": [],
   "source": [
    "import win32com.client\n",
    "import pandas as pd\n",
    "instCpStockCode = win32com.client.Dispatch(\"CpUtil.CpStockCode\")\n",
    "instStockChart = win32com.client.Dispatch(\"CpSysDib.StockChart\")\n",
    "instStockChart.SetInputValue(0, \"A001380\") # 종목코드\n",
    "instStockChart.SetInputValue(1, ord('1')) # 1:기간, 2:개수\n",
    "instStockChart.SetInputValue(2, 20210115) # 요청종료일 YYYYMMDD\n",
    "instStockChart.SetInputValue(3, 20190101) # 요청시작일 YYYYMMDD\n",
    "# instStockChart.SetInputValue(4, 10) # 요청 개수\n",
    "instStockChart.SetInputValue(5, (0,5)) # 0:날짜, 1:시간, 2:시가, 3: 고가, 4: 저가, 5: 종가, 6:전일대비, 8:거래량, 9:거래대금, 10:누적체결매도수량\n",
    "instStockChart.SetInputValue(6, ord('D')) # D:일, W:주, M:월, m:분, T:틱\n",
    "instStockChart.SetInputValue(9, ord('1')) # 0:무수정주가, 1:수정주가\n",
    "instStockChart.BlockRequest()\n",
    "\n",
    "code = instStockChart.GetHeaderValue(0)\n",
    "name = instCpStockCode.CodeToName(code)\n",
    "numField = instStockChart.GetHeaderValue(1)\n",
    "nameField = instStockChart.GetHeaderValue(2)\n",
    "numData = instStockChart.GetHeaderValue(3)\n",
    "\n",
    "\n",
    "Data = []\n",
    "for i in range(numData):\n",
    "    Field = []\n",
    "    for j in range(numField):\n",
    "        Field.append(instStockChart.GetDataValue(j, i))\n",
    "    Data.append(Field)\n",
    "pd.DataFrame(Data, columns=nameField).to_csv(f\"./data/{name}.csv\", index=False)"
   ]
  },
  {
   "cell_type": "code",
   "execution_count": null,
   "metadata": {},
   "outputs": [],
   "source": []
  }
 ]
}